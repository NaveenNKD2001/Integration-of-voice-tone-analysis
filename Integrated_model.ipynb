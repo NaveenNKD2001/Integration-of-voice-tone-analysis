{
 "cells": [
  {
   "cell_type": "code",
   "execution_count": 1,
   "id": "fd37d30e",
   "metadata": {},
   "outputs": [
    {
     "name": "stdout",
     "output_type": "stream",
     "text": [
      "WARNING:tensorflow:From C:\\Users\\navee\\anaconda3\\Lib\\site-packages\\keras\\src\\losses.py:2976: The name tf.losses.sparse_softmax_cross_entropy is deprecated. Please use tf.compat.v1.losses.sparse_softmax_cross_entropy instead.\n",
      "\n"
     ]
    }
   ],
   "source": [
    "import librosa\n",
    "import numpy as np\n",
    "import pandas as pd\n",
    "import os\n",
    "import tensorflow as tf"
   ]
  },
  {
   "cell_type": "code",
   "execution_count": 2,
   "id": "3b2c29d6",
   "metadata": {},
   "outputs": [],
   "source": [
    "from sklearn.model_selection import train_test_split\n",
    "from sklearn.preprocessing import LabelEncoder"
   ]
  },
  {
   "cell_type": "code",
   "execution_count": 3,
   "id": "6e9ffc9b",
   "metadata": {},
   "outputs": [],
   "source": [
    "emotions=['angry','disgust','fear','happy','neutral','sad','surprise']"
   ]
  },
  {
   "cell_type": "code",
   "execution_count": 4,
   "id": "0501f087",
   "metadata": {},
   "outputs": [],
   "source": [
    "main_path=\"C:\\\\Users\\\\navee\\\\NullClass-Tasks\\\\Emotion_Detection_voice\\\\audio\\\\train\""
   ]
  },
  {
   "cell_type": "code",
   "execution_count": 5,
   "id": "d72a7061",
   "metadata": {},
   "outputs": [],
   "source": [
    "def load_extract_features(folder_path,emotion_class):\n",
    "    features=[]\n",
    "    labels=[]\n",
    "    \n",
    "    for file_name in os.listdir(folder_path):\n",
    "        file_path=os.path.join(folder_path,file_name)\n",
    "        audio_data,sampling_rate=librosa.load(file_path)\n",
    "        \n",
    "        mfccs=librosa.feature.mfcc(y=audio_data,sr=sampling_rate,n_mfcc=10)\n",
    "        chroma=librosa.feature.chroma_stft(y=audio_data,sr=sampling_rate)\n",
    "        mel=librosa.feature.melspectrogram(y=audio_data,sr=sampling_rate)\n",
    "        \n",
    "        mfccs_flat=np.mean(mfccs,axis=1)\n",
    "        chroma_flat=np.mean(chroma,axis=1)\n",
    "        mel_flat=np.mean(mel,axis=1)\n",
    "        \n",
    "        audio_features=np.concatenate([mfccs_flat,chroma_flat,mel_flat])\n",
    "        \n",
    "        features.append(audio_features)\n",
    "        labels.append(emotion_class)\n",
    "    \n",
    "    return features,labels"
   ]
  },
  {
   "cell_type": "code",
   "execution_count": 6,
   "id": "cca3caca",
   "metadata": {},
   "outputs": [],
   "source": [
    "all_features=[]\n",
    "all_labels=[]"
   ]
  },
  {
   "cell_type": "code",
   "execution_count": 7,
   "id": "21fcd93e",
   "metadata": {},
   "outputs": [],
   "source": [
    "for emotion in emotions:\n",
    "    emotion_folder=os.path.join(main_path,emotion)\n",
    "    features,labels=load_extract_features(emotion_folder,emotion)\n",
    "    all_features.append(features)\n",
    "    all_labels.append(labels)"
   ]
  },
  {
   "cell_type": "code",
   "execution_count": 8,
   "id": "b8ed2e0b",
   "metadata": {},
   "outputs": [],
   "source": [
    "all_features=np.concatenate(all_features)"
   ]
  },
  {
   "cell_type": "code",
   "execution_count": 9,
   "id": "37f105ab",
   "metadata": {},
   "outputs": [],
   "source": [
    "all_labels=np.concatenate(all_labels)"
   ]
  },
  {
   "cell_type": "code",
   "execution_count": 10,
   "id": "1d6e3192",
   "metadata": {},
   "outputs": [],
   "source": [
    "x_audio=np.array(all_features)\n",
    "y_audio=np.array(all_labels)"
   ]
  },
  {
   "cell_type": "code",
   "execution_count": 11,
   "id": "5c459569",
   "metadata": {},
   "outputs": [
    {
     "data": {
      "text/plain": [
       "(2496, 150)"
      ]
     },
     "execution_count": 11,
     "metadata": {},
     "output_type": "execute_result"
    }
   ],
   "source": [
    "x_audio.shape"
   ]
  },
  {
   "cell_type": "code",
   "execution_count": 12,
   "id": "41a4581e",
   "metadata": {},
   "outputs": [
    {
     "data": {
      "text/plain": [
       "(2496,)"
      ]
     },
     "execution_count": 12,
     "metadata": {},
     "output_type": "execute_result"
    }
   ],
   "source": [
    "y_audio.shape"
   ]
  },
  {
   "cell_type": "code",
   "execution_count": 13,
   "id": "a024bced",
   "metadata": {},
   "outputs": [],
   "source": [
    "for i in range(len(y_audio)):\n",
    "    if y_audio[i]=='angry':\n",
    "        y_audio[i]=0\n",
    "    \n",
    "    elif y_audio[i]=='disgust':\n",
    "        y_audio[i]=1\n",
    "    \n",
    "    elif y_audio[i]=='fear':\n",
    "        y_audio[i]=2\n",
    "    \n",
    "    elif y_audio[i]=='happy':\n",
    "        y_audio[i]=3\n",
    "    \n",
    "    elif y_audio[i]=='neutral':\n",
    "        y_audio[i]=4\n",
    "    \n",
    "    elif y_audio[i]=='sad':\n",
    "        y_audio[i]=5\n",
    "        \n",
    "    elif y_audio[i]=='surprise':\n",
    "        y_audio[i]=6"
   ]
  },
  {
   "cell_type": "code",
   "execution_count": 14,
   "id": "360015d3",
   "metadata": {},
   "outputs": [],
   "source": [
    "x_audio=x_audio.reshape((x_audio.shape[0],1,x_audio.shape[1]))"
   ]
  },
  {
   "cell_type": "code",
   "execution_count": 15,
   "id": "d0dc4f98",
   "metadata": {},
   "outputs": [
    {
     "data": {
      "text/plain": [
       "(2496, 1, 150)"
      ]
     },
     "execution_count": 15,
     "metadata": {},
     "output_type": "execute_result"
    }
   ],
   "source": [
    "x_audio.shape"
   ]
  },
  {
   "cell_type": "code",
   "execution_count": 16,
   "id": "f4622ea9",
   "metadata": {},
   "outputs": [],
   "source": [
    "y_audio=tf.keras.utils.to_categorical(y_audio,num_classes=7)"
   ]
  },
  {
   "cell_type": "code",
   "execution_count": 17,
   "id": "88278af7",
   "metadata": {},
   "outputs": [],
   "source": [
    "y_audio=np.argmax(y_audio,axis=1)"
   ]
  },
  {
   "cell_type": "code",
   "execution_count": 18,
   "id": "1252374b",
   "metadata": {},
   "outputs": [
    {
     "name": "stdout",
     "output_type": "stream",
     "text": [
      "Found 28709 files belonging to 7 classes.\n"
     ]
    }
   ],
   "source": [
    "train_data=tf.keras.utils.image_dataset_from_directory(\"images\\\\train\",\n",
    "                                                      image_size=(48,48),\n",
    "                                                      color_mode='grayscale',\n",
    "                                                      label_mode='categorical',\n",
    "                                                      batch_size=32,\n",
    "                                                      shuffle=True)"
   ]
  },
  {
   "cell_type": "code",
   "execution_count": 19,
   "id": "1a20217b",
   "metadata": {},
   "outputs": [],
   "source": [
    "x_image,y_image=[images for images,_ in train_data],[labels for _,labels in train_data]"
   ]
  },
  {
   "cell_type": "code",
   "execution_count": 20,
   "id": "116ec86d",
   "metadata": {},
   "outputs": [],
   "source": [
    "x_image=np.concatenate(x_image)\n",
    "y_image=np.concatenate(y_image)"
   ]
  },
  {
   "cell_type": "code",
   "execution_count": 21,
   "id": "00aa6428",
   "metadata": {},
   "outputs": [],
   "source": [
    "y_image=np.argmax(y_image,axis=1)"
   ]
  },
  {
   "cell_type": "code",
   "execution_count": 22,
   "id": "bec50264",
   "metadata": {},
   "outputs": [],
   "source": [
    "angry=[]\n",
    "disgust=[]\n",
    "fear=[]\n",
    "happy=[]\n",
    "neutral=[]\n",
    "sad=[]\n",
    "surprise=[]"
   ]
  },
  {
   "cell_type": "code",
   "execution_count": 23,
   "id": "09018893",
   "metadata": {},
   "outputs": [],
   "source": [
    "for i in range(len(x_image)):\n",
    "    if y_image[i]==0 and len(angry)<384:\n",
    "        angry.append(x_image[i])\n",
    "        \n",
    "    elif y_image[i]==1 and len(disgust)<384:\n",
    "        disgust.append(x_image[i])\n",
    "        \n",
    "    elif y_image[i]==2 and len(fear)<384:\n",
    "        fear.append(x_image[i])\n",
    "        \n",
    "    elif y_image[i]==3 and len(happy)<384:\n",
    "        happy.append(x_image[i])\n",
    "        \n",
    "    elif y_image[i]==4 and len(neutral)<192:\n",
    "        neutral.append(x_image[i])\n",
    "        \n",
    "    elif y_image[i]==5 and len(sad)<384:\n",
    "        sad.append(x_image[i])\n",
    "        \n",
    "    elif y_image[i]==6 and len(surprise)<384:\n",
    "        surprise.append(x_image[i])"
   ]
  },
  {
   "cell_type": "code",
   "execution_count": 24,
   "id": "e9e51249",
   "metadata": {},
   "outputs": [],
   "source": [
    "x_image=angry+disgust+fear+happy+neutral+sad+surprise"
   ]
  },
  {
   "cell_type": "code",
   "execution_count": 25,
   "id": "70846128",
   "metadata": {},
   "outputs": [],
   "source": [
    "x_image=np.array(x_image)"
   ]
  },
  {
   "cell_type": "code",
   "execution_count": 26,
   "id": "8adb3745",
   "metadata": {},
   "outputs": [],
   "source": [
    "y_image=[]"
   ]
  },
  {
   "cell_type": "code",
   "execution_count": 27,
   "id": "ec6aeae5",
   "metadata": {},
   "outputs": [],
   "source": [
    "y_image=[0]*384+[1]*384+[2]*384+[3]*384+[4]*192+[5]*384+[6]*384"
   ]
  },
  {
   "cell_type": "code",
   "execution_count": 28,
   "id": "c5acb8b4",
   "metadata": {},
   "outputs": [
    {
     "name": "stdout",
     "output_type": "stream",
     "text": [
      "both are same\n"
     ]
    }
   ],
   "source": [
    "count =0\n",
    "for i in range(len(y_audio)):\n",
    "    if y_audio[i]!=y_image[i]:\n",
    "        count+=1\n",
    "\n",
    "if count==0:\n",
    "    print(\"both are same\")\n",
    "else:\n",
    "    print(\"both are not same\")"
   ]
  },
  {
   "cell_type": "code",
   "execution_count": 29,
   "id": "f0c9472a",
   "metadata": {},
   "outputs": [],
   "source": [
    "y=tf.keras.utils.to_categorical(y_image)"
   ]
  },
  {
   "cell_type": "code",
   "execution_count": 30,
   "id": "7ee64351",
   "metadata": {},
   "outputs": [],
   "source": [
    "x_audio_tr,x_audio_te,x_image_tr,x_image_te,y_tr,y_te=train_test_split(x_audio,x_image,y,test_size=0.2,random_state=0)"
   ]
  },
  {
   "cell_type": "code",
   "execution_count": 31,
   "id": "aa582357",
   "metadata": {},
   "outputs": [
    {
     "data": {
      "text/plain": [
       "array([[0., 0., 0., ..., 0., 0., 1.],\n",
       "       [0., 0., 0., ..., 1., 0., 0.],\n",
       "       [0., 0., 1., ..., 0., 0., 0.],\n",
       "       ...,\n",
       "       [0., 0., 0., ..., 0., 0., 0.],\n",
       "       [1., 0., 0., ..., 0., 0., 0.],\n",
       "       [0., 0., 0., ..., 0., 0., 1.]], dtype=float32)"
      ]
     },
     "execution_count": 31,
     "metadata": {},
     "output_type": "execute_result"
    }
   ],
   "source": [
    "y_te"
   ]
  },
  {
   "cell_type": "code",
   "execution_count": 32,
   "id": "a02e9876",
   "metadata": {},
   "outputs": [
    {
     "name": "stdout",
     "output_type": "stream",
     "text": [
      "WARNING:tensorflow:From C:\\Users\\navee\\anaconda3\\Lib\\site-packages\\keras\\src\\backend.py:1398: The name tf.executing_eagerly_outside_functions is deprecated. Please use tf.compat.v1.executing_eagerly_outside_functions instead.\n",
      "\n"
     ]
    }
   ],
   "source": [
    "audio_input=tf.keras.layers.Input(shape=(1,150),name='audio_input')\n",
    "\n",
    "model_lstm=tf.keras.models.Sequential(name='model_lstm')\n",
    "\n",
    "model_lstm.add(tf.keras.layers.LSTM(64,return_sequences=True))\n",
    "\n",
    "model_lstm.add(tf.keras.layers.LSTM(128,return_sequences=True))\n",
    "\n",
    "model_lstm.add(tf.keras.layers.LSTM(256))\n",
    "\n",
    "model_lstm.add(tf.keras.layers.Dense(128, activation='relu'))\n",
    "model_lstm.add(tf.keras.layers.Dense(64, activation='relu'))\n",
    "model_lstm.add(tf.keras.layers.Dense(7, activation='softmax'))\n",
    "\n",
    "audio_output=model_lstm(audio_input)"
   ]
  },
  {
   "cell_type": "code",
   "execution_count": 33,
   "id": "176c2ad5",
   "metadata": {},
   "outputs": [
    {
     "name": "stdout",
     "output_type": "stream",
     "text": [
      "WARNING:tensorflow:From C:\\Users\\navee\\anaconda3\\Lib\\site-packages\\keras\\src\\layers\\pooling\\max_pooling2d.py:161: The name tf.nn.max_pool is deprecated. Please use tf.nn.max_pool2d instead.\n",
      "\n"
     ]
    }
   ],
   "source": [
    "image_input=tf.keras.layers.Input(shape=(48,48,1),name='image_input')\n",
    "\n",
    "model_cnn=tf.keras.models.Sequential()\n",
    "\n",
    "model_cnn.add(tf.keras.layers.Conv2D(filters=64,kernel_size=3,activation='relu'))\n",
    "model_cnn.add(tf.keras.layers.BatchNormalization())\n",
    "model_cnn.add(tf.keras.layers.Dropout(0.2))\n",
    "model_cnn.add(tf.keras.layers.MaxPool2D(pool_size=(2,2),strides=2))\n",
    "\n",
    "model_cnn.add(tf.keras.layers.Conv2D(filters=128,kernel_size=3,activation='relu'))\n",
    "model_cnn.add(tf.keras.layers.MaxPool2D(pool_size=(2,2),strides=2))\n",
    "\n",
    "model_cnn.add(tf.keras.layers.Conv2D(filters=256,kernel_size=3,activation='relu'))\n",
    "model_cnn.add(tf.keras.layers.MaxPool2D(pool_size=(2,2),strides=2))\n",
    "\n",
    "model_cnn.add(tf.keras.layers.Flatten())\n",
    "\n",
    "model_cnn.add(tf.keras.layers.Dense(128,activation='relu'))\n",
    "model_cnn.add(tf.keras.layers.Dense(64,activation='relu'))\n",
    "model_cnn.add(tf.keras.layers.Dense(7,activation='softmax'))\n",
    "\n",
    "image_output=model_cnn(image_input)"
   ]
  },
  {
   "cell_type": "code",
   "execution_count": 34,
   "id": "f6287574",
   "metadata": {},
   "outputs": [],
   "source": [
    "merged=tf.keras.layers.Concatenate()([audio_output,image_output])"
   ]
  },
  {
   "cell_type": "code",
   "execution_count": 35,
   "id": "a388e63a",
   "metadata": {},
   "outputs": [],
   "source": [
    "final_output=tf.keras.layers.Dense(7,activation='softmax',name='final_output')(merged)"
   ]
  },
  {
   "cell_type": "code",
   "execution_count": 36,
   "id": "492cf078",
   "metadata": {},
   "outputs": [],
   "source": [
    "combined_model=tf.keras.models.Model(inputs=[audio_input,image_input],outputs=[final_output])"
   ]
  },
  {
   "cell_type": "code",
   "execution_count": 37,
   "id": "96d8e553",
   "metadata": {},
   "outputs": [
    {
     "name": "stdout",
     "output_type": "stream",
     "text": [
      "WARNING:tensorflow:From C:\\Users\\navee\\anaconda3\\Lib\\site-packages\\keras\\src\\optimizers\\__init__.py:309: The name tf.train.Optimizer is deprecated. Please use tf.compat.v1.train.Optimizer instead.\n",
      "\n"
     ]
    }
   ],
   "source": [
    "combined_model.compile(optimizer='adam',loss='categorical_crossentropy',metrics=['accuracy'])"
   ]
  },
  {
   "cell_type": "code",
   "execution_count": 38,
   "id": "91acfd60",
   "metadata": {},
   "outputs": [
    {
     "name": "stdout",
     "output_type": "stream",
     "text": [
      "Model: \"model\"\n",
      "__________________________________________________________________________________________________\n",
      " Layer (type)                Output Shape                 Param #   Connected to                  \n",
      "==================================================================================================\n",
      " audio_input (InputLayer)    [(None, 1, 150)]             0         []                            \n",
      "                                                                                                  \n",
      " image_input (InputLayer)    [(None, 48, 48, 1)]          0         []                            \n",
      "                                                                                                  \n",
      " model_lstm (Sequential)     (None, 7)                    589703    ['audio_input[0][0]']         \n",
      "                                                                                                  \n",
      " sequential (Sequential)     (None, 7)                    903047    ['image_input[0][0]']         \n",
      "                                                                                                  \n",
      " concatenate (Concatenate)   (None, 14)                   0         ['model_lstm[0][0]',          \n",
      "                                                                     'sequential[0][0]']          \n",
      "                                                                                                  \n",
      " final_output (Dense)        (None, 7)                    105       ['concatenate[0][0]']         \n",
      "                                                                                                  \n",
      "==================================================================================================\n",
      "Total params: 1492855 (5.69 MB)\n",
      "Trainable params: 1492727 (5.69 MB)\n",
      "Non-trainable params: 128 (512.00 Byte)\n",
      "__________________________________________________________________________________________________\n"
     ]
    }
   ],
   "source": [
    "combined_model.summary()"
   ]
  },
  {
   "cell_type": "code",
   "execution_count": 39,
   "id": "bd6876f1",
   "metadata": {},
   "outputs": [],
   "source": [
    "checkpoint=tf.keras.callbacks.ModelCheckpoint('Model_Integrated_weights.h5',monitor='val_accuracy',mode='max',save_best_only=True)"
   ]
  },
  {
   "cell_type": "code",
   "execution_count": 40,
   "id": "5acd5ec9",
   "metadata": {},
   "outputs": [
    {
     "name": "stdout",
     "output_type": "stream",
     "text": [
      "Epoch 1/300\n",
      "WARNING:tensorflow:From C:\\Users\\navee\\anaconda3\\Lib\\site-packages\\keras\\src\\utils\\tf_utils.py:492: The name tf.ragged.RaggedTensorValue is deprecated. Please use tf.compat.v1.ragged.RaggedTensorValue instead.\n",
      "\n",
      "WARNING:tensorflow:From C:\\Users\\navee\\anaconda3\\Lib\\site-packages\\keras\\src\\engine\\base_layer_utils.py:384: The name tf.executing_eagerly_outside_functions is deprecated. Please use tf.compat.v1.executing_eagerly_outside_functions instead.\n",
      "\n",
      "63/63 [==============================] - 14s 117ms/step - loss: 1.9402 - accuracy: 0.1668 - val_loss: 1.9228 - val_accuracy: 0.1980\n",
      "Epoch 2/300\n"
     ]
    },
    {
     "name": "stderr",
     "output_type": "stream",
     "text": [
      "C:\\Users\\navee\\anaconda3\\Lib\\site-packages\\keras\\src\\engine\\training.py:3103: UserWarning: You are saving your model as an HDF5 file via `model.save()`. This file format is considered legacy. We recommend using instead the native Keras format, e.g. `model.save('my_model.keras')`.\n",
      "  saving_api.save_model(\n"
     ]
    },
    {
     "name": "stdout",
     "output_type": "stream",
     "text": [
      "63/63 [==============================] - 8s 128ms/step - loss: 1.8932 - accuracy: 0.2255 - val_loss: 1.8858 - val_accuracy: 0.2260\n",
      "Epoch 3/300\n",
      "63/63 [==============================] - 8s 134ms/step - loss: 1.8751 - accuracy: 0.2239 - val_loss: 1.8781 - val_accuracy: 0.2240\n",
      "Epoch 4/300\n",
      "63/63 [==============================] - 8s 131ms/step - loss: 1.8585 - accuracy: 0.2325 - val_loss: 1.8528 - val_accuracy: 0.2380\n",
      "Epoch 5/300\n",
      "63/63 [==============================] - 8s 127ms/step - loss: 1.8389 - accuracy: 0.2485 - val_loss: 1.8479 - val_accuracy: 0.2380\n",
      "Epoch 6/300\n",
      "63/63 [==============================] - 8s 130ms/step - loss: 1.8356 - accuracy: 0.2525 - val_loss: 1.8288 - val_accuracy: 0.2420\n",
      "Epoch 7/300\n",
      "63/63 [==============================] - 8s 126ms/step - loss: 1.8180 - accuracy: 0.2781 - val_loss: 1.8213 - val_accuracy: 0.2360\n",
      "Epoch 8/300\n",
      "63/63 [==============================] - 8s 131ms/step - loss: 1.8065 - accuracy: 0.2745 - val_loss: 1.8118 - val_accuracy: 0.2620\n",
      "Epoch 9/300\n",
      "63/63 [==============================] - 8s 127ms/step - loss: 1.8173 - accuracy: 0.2756 - val_loss: 1.8113 - val_accuracy: 0.2460\n",
      "Epoch 10/300\n",
      "63/63 [==============================] - 8s 126ms/step - loss: 1.8037 - accuracy: 0.2791 - val_loss: 1.7894 - val_accuracy: 0.2460\n",
      "Epoch 11/300\n",
      "63/63 [==============================] - 8s 127ms/step - loss: 1.7943 - accuracy: 0.2720 - val_loss: 1.7956 - val_accuracy: 0.2540\n",
      "Epoch 12/300\n",
      "63/63 [==============================] - 8s 130ms/step - loss: 1.7801 - accuracy: 0.2806 - val_loss: 1.7691 - val_accuracy: 0.2640\n",
      "Epoch 13/300\n",
      "63/63 [==============================] - 8s 129ms/step - loss: 1.7803 - accuracy: 0.2826 - val_loss: 1.7791 - val_accuracy: 0.2740\n",
      "Epoch 14/300\n",
      "63/63 [==============================] - 8s 126ms/step - loss: 1.7810 - accuracy: 0.2916 - val_loss: 1.7900 - val_accuracy: 0.2620\n",
      "Epoch 15/300\n",
      "63/63 [==============================] - 8s 130ms/step - loss: 1.7659 - accuracy: 0.2996 - val_loss: 1.7410 - val_accuracy: 0.3160\n",
      "Epoch 16/300\n",
      "63/63 [==============================] - 8s 130ms/step - loss: 1.7532 - accuracy: 0.3146 - val_loss: 1.7408 - val_accuracy: 0.3180\n",
      "Epoch 17/300\n",
      "63/63 [==============================] - 9s 148ms/step - loss: 1.7436 - accuracy: 0.3161 - val_loss: 1.7564 - val_accuracy: 0.2880\n",
      "Epoch 18/300\n",
      "63/63 [==============================] - 9s 140ms/step - loss: 1.7323 - accuracy: 0.3201 - val_loss: 1.7102 - val_accuracy: 0.3300\n",
      "Epoch 19/300\n",
      "63/63 [==============================] - 8s 126ms/step - loss: 1.7119 - accuracy: 0.3397 - val_loss: 1.7455 - val_accuracy: 0.3240\n",
      "Epoch 20/300\n",
      "63/63 [==============================] - 8s 126ms/step - loss: 1.7146 - accuracy: 0.3287 - val_loss: 1.7351 - val_accuracy: 0.2880\n",
      "Epoch 21/300\n",
      "63/63 [==============================] - 11s 178ms/step - loss: 1.7113 - accuracy: 0.3307 - val_loss: 1.7209 - val_accuracy: 0.3140\n",
      "Epoch 22/300\n",
      "63/63 [==============================] - 10s 157ms/step - loss: 1.6960 - accuracy: 0.3447 - val_loss: 1.7530 - val_accuracy: 0.2700\n",
      "Epoch 23/300\n",
      "63/63 [==============================] - 10s 162ms/step - loss: 1.6908 - accuracy: 0.3402 - val_loss: 1.6807 - val_accuracy: 0.3360\n",
      "Epoch 24/300\n",
      "63/63 [==============================] - 9s 142ms/step - loss: 1.6611 - accuracy: 0.3597 - val_loss: 1.6828 - val_accuracy: 0.3440\n",
      "Epoch 25/300\n",
      "63/63 [==============================] - 9s 136ms/step - loss: 1.6761 - accuracy: 0.3462 - val_loss: 1.6961 - val_accuracy: 0.3040\n",
      "Epoch 26/300\n",
      "63/63 [==============================] - 8s 128ms/step - loss: 1.6628 - accuracy: 0.3557 - val_loss: 1.7169 - val_accuracy: 0.3180\n",
      "Epoch 27/300\n",
      "63/63 [==============================] - 11s 178ms/step - loss: 1.6577 - accuracy: 0.3522 - val_loss: 1.6582 - val_accuracy: 0.3480\n",
      "Epoch 28/300\n",
      "63/63 [==============================] - 10s 154ms/step - loss: 1.6528 - accuracy: 0.3507 - val_loss: 1.7041 - val_accuracy: 0.3060\n",
      "Epoch 29/300\n",
      "63/63 [==============================] - 11s 182ms/step - loss: 1.6557 - accuracy: 0.3502 - val_loss: 1.6555 - val_accuracy: 0.3580\n",
      "Epoch 30/300\n",
      "63/63 [==============================] - 9s 148ms/step - loss: 1.6476 - accuracy: 0.3517 - val_loss: 1.6649 - val_accuracy: 0.3360\n",
      "Epoch 31/300\n",
      "63/63 [==============================] - 9s 144ms/step - loss: 1.6313 - accuracy: 0.3622 - val_loss: 1.6253 - val_accuracy: 0.3540\n",
      "Epoch 32/300\n",
      "63/63 [==============================] - 10s 156ms/step - loss: 1.6125 - accuracy: 0.3637 - val_loss: 1.6355 - val_accuracy: 0.3700\n",
      "Epoch 33/300\n",
      "63/63 [==============================] - 10s 157ms/step - loss: 1.6152 - accuracy: 0.3747 - val_loss: 1.6355 - val_accuracy: 0.3520\n",
      "Epoch 34/300\n",
      "63/63 [==============================] - 9s 149ms/step - loss: 1.5988 - accuracy: 0.3783 - val_loss: 1.6454 - val_accuracy: 0.3700\n",
      "Epoch 35/300\n",
      "63/63 [==============================] - 8s 128ms/step - loss: 1.6085 - accuracy: 0.3637 - val_loss: 1.6027 - val_accuracy: 0.3640\n",
      "Epoch 36/300\n",
      "63/63 [==============================] - 8s 126ms/step - loss: 1.5850 - accuracy: 0.3818 - val_loss: 1.6362 - val_accuracy: 0.3620\n",
      "Epoch 37/300\n",
      "63/63 [==============================] - 8s 128ms/step - loss: 1.6023 - accuracy: 0.3773 - val_loss: 1.6090 - val_accuracy: 0.3660\n",
      "Epoch 38/300\n",
      "63/63 [==============================] - 8s 130ms/step - loss: 1.5763 - accuracy: 0.3783 - val_loss: 1.6006 - val_accuracy: 0.3860\n",
      "Epoch 39/300\n",
      "63/63 [==============================] - 8s 126ms/step - loss: 1.5842 - accuracy: 0.3778 - val_loss: 1.6121 - val_accuracy: 0.3660\n",
      "Epoch 40/300\n",
      "63/63 [==============================] - 10s 163ms/step - loss: 1.5758 - accuracy: 0.3788 - val_loss: 1.5866 - val_accuracy: 0.3960\n",
      "Epoch 41/300\n",
      "63/63 [==============================] - 12s 189ms/step - loss: 1.5568 - accuracy: 0.3878 - val_loss: 1.5800 - val_accuracy: 0.3880\n",
      "Epoch 42/300\n",
      "63/63 [==============================] - 10s 165ms/step - loss: 1.5433 - accuracy: 0.3958 - val_loss: 1.5637 - val_accuracy: 0.3960\n",
      "Epoch 43/300\n",
      "63/63 [==============================] - 10s 165ms/step - loss: 1.5443 - accuracy: 0.3938 - val_loss: 1.5776 - val_accuracy: 0.3700\n",
      "Epoch 44/300\n",
      "63/63 [==============================] - 11s 168ms/step - loss: 1.5439 - accuracy: 0.3913 - val_loss: 1.5578 - val_accuracy: 0.3760\n",
      "Epoch 45/300\n",
      "63/63 [==============================] - 10s 161ms/step - loss: 1.5427 - accuracy: 0.3863 - val_loss: 1.6142 - val_accuracy: 0.3920\n",
      "Epoch 46/300\n",
      "63/63 [==============================] - 10s 163ms/step - loss: 1.5589 - accuracy: 0.3813 - val_loss: 1.5832 - val_accuracy: 0.3680\n",
      "Epoch 47/300\n",
      "63/63 [==============================] - 10s 164ms/step - loss: 1.5285 - accuracy: 0.4068 - val_loss: 1.5639 - val_accuracy: 0.3920\n",
      "Epoch 48/300\n",
      "63/63 [==============================] - 11s 170ms/step - loss: 1.5135 - accuracy: 0.3973 - val_loss: 1.5640 - val_accuracy: 0.3680\n",
      "Epoch 49/300\n",
      "63/63 [==============================] - 11s 174ms/step - loss: 1.5019 - accuracy: 0.4023 - val_loss: 1.5131 - val_accuracy: 0.4220\n",
      "Epoch 50/300\n",
      "63/63 [==============================] - 10s 163ms/step - loss: 1.4984 - accuracy: 0.4058 - val_loss: 1.5507 - val_accuracy: 0.3900\n",
      "Epoch 51/300\n",
      "63/63 [==============================] - 10s 163ms/step - loss: 1.4892 - accuracy: 0.4118 - val_loss: 1.5339 - val_accuracy: 0.4040\n",
      "Epoch 52/300\n",
      "63/63 [==============================] - 10s 161ms/step - loss: 1.4892 - accuracy: 0.4198 - val_loss: 1.5325 - val_accuracy: 0.4060\n",
      "Epoch 53/300\n",
      "63/63 [==============================] - 10s 163ms/step - loss: 1.5256 - accuracy: 0.3933 - val_loss: 1.5371 - val_accuracy: 0.3960\n",
      "Epoch 54/300\n",
      "63/63 [==============================] - 10s 163ms/step - loss: 1.4706 - accuracy: 0.4138 - val_loss: 1.5736 - val_accuracy: 0.3740\n",
      "Epoch 55/300\n",
      "63/63 [==============================] - 11s 169ms/step - loss: 1.4826 - accuracy: 0.4128 - val_loss: 1.5255 - val_accuracy: 0.4120\n",
      "Epoch 56/300\n",
      "63/63 [==============================] - 10s 167ms/step - loss: 1.4670 - accuracy: 0.4243 - val_loss: 1.5348 - val_accuracy: 0.3880\n",
      "Epoch 57/300\n",
      "63/63 [==============================] - 11s 167ms/step - loss: 1.5070 - accuracy: 0.3958 - val_loss: 1.5448 - val_accuracy: 0.3820\n",
      "Epoch 58/300\n",
      "63/63 [==============================] - 10s 163ms/step - loss: 1.4606 - accuracy: 0.4304 - val_loss: 1.5526 - val_accuracy: 0.3700\n"
     ]
    },
    {
     "name": "stdout",
     "output_type": "stream",
     "text": [
      "Epoch 59/300\n",
      "63/63 [==============================] - 11s 169ms/step - loss: 1.4756 - accuracy: 0.4133 - val_loss: 1.4892 - val_accuracy: 0.4240\n",
      "Epoch 60/300\n",
      "63/63 [==============================] - 10s 158ms/step - loss: 1.4557 - accuracy: 0.4344 - val_loss: 1.4987 - val_accuracy: 0.4160\n",
      "Epoch 61/300\n",
      "63/63 [==============================] - 9s 141ms/step - loss: 1.4600 - accuracy: 0.4294 - val_loss: 1.4946 - val_accuracy: 0.4120\n",
      "Epoch 62/300\n",
      "63/63 [==============================] - 9s 142ms/step - loss: 1.4461 - accuracy: 0.4389 - val_loss: 1.5600 - val_accuracy: 0.3860\n",
      "Epoch 63/300\n",
      "63/63 [==============================] - 9s 140ms/step - loss: 1.4631 - accuracy: 0.4238 - val_loss: 1.5254 - val_accuracy: 0.4200\n",
      "Epoch 64/300\n",
      "63/63 [==============================] - 9s 144ms/step - loss: 1.4405 - accuracy: 0.4289 - val_loss: 1.4993 - val_accuracy: 0.4260\n",
      "Epoch 65/300\n",
      "63/63 [==============================] - 9s 137ms/step - loss: 1.4390 - accuracy: 0.4399 - val_loss: 1.4903 - val_accuracy: 0.4220\n",
      "Epoch 66/300\n",
      "63/63 [==============================] - 9s 147ms/step - loss: 1.4364 - accuracy: 0.4434 - val_loss: 1.4674 - val_accuracy: 0.4420\n",
      "Epoch 67/300\n",
      "63/63 [==============================] - 9s 136ms/step - loss: 1.4578 - accuracy: 0.4223 - val_loss: 1.5294 - val_accuracy: 0.3880\n",
      "Epoch 68/300\n",
      "63/63 [==============================] - 9s 141ms/step - loss: 1.4332 - accuracy: 0.4329 - val_loss: 1.4731 - val_accuracy: 0.4300\n",
      "Epoch 69/300\n",
      "63/63 [==============================] - 9s 147ms/step - loss: 1.4350 - accuracy: 0.4384 - val_loss: 1.4821 - val_accuracy: 0.4200\n",
      "Epoch 70/300\n",
      "63/63 [==============================] - 9s 138ms/step - loss: 1.4462 - accuracy: 0.4259 - val_loss: 1.4888 - val_accuracy: 0.4340\n",
      "Epoch 71/300\n",
      "63/63 [==============================] - 9s 142ms/step - loss: 1.4287 - accuracy: 0.4424 - val_loss: 1.5003 - val_accuracy: 0.4480\n",
      "Epoch 72/300\n",
      "63/63 [==============================] - 9s 136ms/step - loss: 1.4201 - accuracy: 0.4429 - val_loss: 1.4656 - val_accuracy: 0.4200\n",
      "Epoch 73/300\n",
      "63/63 [==============================] - 9s 138ms/step - loss: 1.4244 - accuracy: 0.4414 - val_loss: 1.5496 - val_accuracy: 0.3840\n",
      "Epoch 74/300\n",
      "63/63 [==============================] - 9s 138ms/step - loss: 1.4246 - accuracy: 0.4404 - val_loss: 1.4777 - val_accuracy: 0.4220\n",
      "Epoch 75/300\n",
      "63/63 [==============================] - 9s 141ms/step - loss: 1.4195 - accuracy: 0.4409 - val_loss: 1.5262 - val_accuracy: 0.4000\n",
      "Epoch 76/300\n",
      "63/63 [==============================] - 9s 139ms/step - loss: 1.4779 - accuracy: 0.4294 - val_loss: 1.4922 - val_accuracy: 0.3980\n",
      "Epoch 77/300\n",
      "63/63 [==============================] - 9s 139ms/step - loss: 1.4048 - accuracy: 0.4484 - val_loss: 1.5074 - val_accuracy: 0.4100\n",
      "Epoch 78/300\n",
      "63/63 [==============================] - 9s 151ms/step - loss: 1.3955 - accuracy: 0.4489 - val_loss: 1.4396 - val_accuracy: 0.4420\n",
      "Epoch 79/300\n",
      "63/63 [==============================] - 9s 136ms/step - loss: 1.3883 - accuracy: 0.4469 - val_loss: 1.4599 - val_accuracy: 0.4160\n",
      "Epoch 80/300\n",
      "63/63 [==============================] - 8s 135ms/step - loss: 1.4001 - accuracy: 0.4519 - val_loss: 1.4888 - val_accuracy: 0.4360\n",
      "Epoch 81/300\n",
      "63/63 [==============================] - 9s 136ms/step - loss: 1.4065 - accuracy: 0.4504 - val_loss: 1.4551 - val_accuracy: 0.4260\n",
      "Epoch 82/300\n",
      "63/63 [==============================] - 9s 142ms/step - loss: 1.3769 - accuracy: 0.4644 - val_loss: 1.4246 - val_accuracy: 0.4500\n",
      "Epoch 83/300\n",
      "63/63 [==============================] - 9s 149ms/step - loss: 1.3818 - accuracy: 0.4559 - val_loss: 1.4745 - val_accuracy: 0.4260\n",
      "Epoch 84/300\n",
      "63/63 [==============================] - 8s 135ms/step - loss: 1.3862 - accuracy: 0.4534 - val_loss: 1.4939 - val_accuracy: 0.4180\n",
      "Epoch 85/300\n",
      "63/63 [==============================] - 9s 135ms/step - loss: 1.3967 - accuracy: 0.4569 - val_loss: 1.4849 - val_accuracy: 0.4080\n",
      "Epoch 86/300\n",
      "63/63 [==============================] - 8s 134ms/step - loss: 1.3846 - accuracy: 0.4534 - val_loss: 1.4352 - val_accuracy: 0.4340\n",
      "Epoch 87/300\n",
      "63/63 [==============================] - 8s 133ms/step - loss: 1.3960 - accuracy: 0.4519 - val_loss: 1.4384 - val_accuracy: 0.4400\n",
      "Epoch 88/300\n",
      "63/63 [==============================] - 8s 134ms/step - loss: 1.3679 - accuracy: 0.4624 - val_loss: 1.4371 - val_accuracy: 0.4320\n",
      "Epoch 89/300\n",
      "63/63 [==============================] - 8s 133ms/step - loss: 1.3579 - accuracy: 0.4694 - val_loss: 1.4076 - val_accuracy: 0.4320\n",
      "Epoch 90/300\n",
      "63/63 [==============================] - 9s 135ms/step - loss: 1.3484 - accuracy: 0.4699 - val_loss: 1.4398 - val_accuracy: 0.4480\n",
      "Epoch 91/300\n",
      "63/63 [==============================] - 8s 134ms/step - loss: 1.3493 - accuracy: 0.4770 - val_loss: 1.4523 - val_accuracy: 0.4320\n",
      "Epoch 92/300\n",
      "63/63 [==============================] - 8s 135ms/step - loss: 1.3563 - accuracy: 0.4624 - val_loss: 1.4169 - val_accuracy: 0.4480\n",
      "Epoch 93/300\n",
      "63/63 [==============================] - 8s 133ms/step - loss: 1.3567 - accuracy: 0.4709 - val_loss: 1.4372 - val_accuracy: 0.4460\n",
      "Epoch 94/300\n",
      "63/63 [==============================] - 8s 132ms/step - loss: 1.3578 - accuracy: 0.4649 - val_loss: 1.4762 - val_accuracy: 0.4240\n",
      "Epoch 95/300\n",
      "63/63 [==============================] - 8s 135ms/step - loss: 1.3511 - accuracy: 0.4644 - val_loss: 1.4155 - val_accuracy: 0.4340\n",
      "Epoch 96/300\n",
      "63/63 [==============================] - 8s 134ms/step - loss: 1.3462 - accuracy: 0.4744 - val_loss: 1.4384 - val_accuracy: 0.4140\n",
      "Epoch 97/300\n",
      "63/63 [==============================] - 9s 137ms/step - loss: 1.3341 - accuracy: 0.4734 - val_loss: 1.4319 - val_accuracy: 0.4100\n",
      "Epoch 98/300\n",
      "63/63 [==============================] - 8s 132ms/step - loss: 1.3315 - accuracy: 0.4755 - val_loss: 1.4297 - val_accuracy: 0.4280\n",
      "Epoch 99/300\n",
      "63/63 [==============================] - 8s 134ms/step - loss: 1.3238 - accuracy: 0.4785 - val_loss: 1.4556 - val_accuracy: 0.4360\n",
      "Epoch 100/300\n",
      "63/63 [==============================] - 8s 133ms/step - loss: 1.3251 - accuracy: 0.4815 - val_loss: 1.4622 - val_accuracy: 0.4140\n",
      "Epoch 101/300\n",
      "63/63 [==============================] - 9s 135ms/step - loss: 1.3435 - accuracy: 0.4805 - val_loss: 1.4298 - val_accuracy: 0.4480\n",
      "Epoch 102/300\n",
      "63/63 [==============================] - 9s 135ms/step - loss: 1.3385 - accuracy: 0.4669 - val_loss: 1.5804 - val_accuracy: 0.3940\n",
      "Epoch 103/300\n",
      "63/63 [==============================] - 9s 142ms/step - loss: 1.3625 - accuracy: 0.4644 - val_loss: 1.4409 - val_accuracy: 0.4580\n",
      "Epoch 104/300\n",
      "63/63 [==============================] - 8s 133ms/step - loss: 1.3422 - accuracy: 0.4755 - val_loss: 1.4439 - val_accuracy: 0.4440\n",
      "Epoch 105/300\n",
      "63/63 [==============================] - 8s 134ms/step - loss: 1.3544 - accuracy: 0.4714 - val_loss: 1.5417 - val_accuracy: 0.3920\n",
      "Epoch 106/300\n",
      "63/63 [==============================] - 8s 135ms/step - loss: 1.3470 - accuracy: 0.4719 - val_loss: 1.4477 - val_accuracy: 0.4320\n",
      "Epoch 107/300\n",
      "63/63 [==============================] - 8s 134ms/step - loss: 1.3315 - accuracy: 0.4674 - val_loss: 1.4241 - val_accuracy: 0.4440\n",
      "Epoch 108/300\n",
      "63/63 [==============================] - 9s 143ms/step - loss: 1.3191 - accuracy: 0.4709 - val_loss: 1.3984 - val_accuracy: 0.4800\n",
      "Epoch 109/300\n",
      "63/63 [==============================] - 8s 131ms/step - loss: 1.3095 - accuracy: 0.4860 - val_loss: 1.4686 - val_accuracy: 0.4300\n",
      "Epoch 110/300\n",
      "63/63 [==============================] - 8s 134ms/step - loss: 1.3272 - accuracy: 0.4800 - val_loss: 1.4326 - val_accuracy: 0.4300\n",
      "Epoch 111/300\n",
      "63/63 [==============================] - 8s 133ms/step - loss: 1.3079 - accuracy: 0.4840 - val_loss: 1.4037 - val_accuracy: 0.4480\n",
      "Epoch 112/300\n",
      "63/63 [==============================] - 9s 138ms/step - loss: 1.3101 - accuracy: 0.4815 - val_loss: 1.4141 - val_accuracy: 0.4440\n",
      "Epoch 113/300\n",
      "63/63 [==============================] - 9s 137ms/step - loss: 1.3027 - accuracy: 0.4915 - val_loss: 1.4969 - val_accuracy: 0.4200\n",
      "Epoch 114/300\n",
      "63/63 [==============================] - 14s 225ms/step - loss: 1.3320 - accuracy: 0.4870 - val_loss: 1.4145 - val_accuracy: 0.4500\n",
      "Epoch 115/300\n",
      "63/63 [==============================] - 14s 216ms/step - loss: 1.3260 - accuracy: 0.4770 - val_loss: 1.4633 - val_accuracy: 0.4260\n"
     ]
    },
    {
     "name": "stdout",
     "output_type": "stream",
     "text": [
      "Epoch 116/300\n",
      "63/63 [==============================] - 12s 191ms/step - loss: 1.3270 - accuracy: 0.4734 - val_loss: 1.4230 - val_accuracy: 0.4540\n",
      "Epoch 117/300\n",
      "63/63 [==============================] - 11s 170ms/step - loss: 1.3048 - accuracy: 0.4935 - val_loss: 1.4428 - val_accuracy: 0.4260\n",
      "Epoch 118/300\n",
      "63/63 [==============================] - 10s 155ms/step - loss: 1.3169 - accuracy: 0.4865 - val_loss: 1.4253 - val_accuracy: 0.4360\n",
      "Epoch 119/300\n",
      "63/63 [==============================] - 10s 158ms/step - loss: 1.2936 - accuracy: 0.4890 - val_loss: 1.4096 - val_accuracy: 0.4480\n",
      "Epoch 120/300\n",
      "63/63 [==============================] - 10s 156ms/step - loss: 1.2695 - accuracy: 0.4945 - val_loss: 1.4044 - val_accuracy: 0.4600\n",
      "Epoch 121/300\n",
      "63/63 [==============================] - 10s 155ms/step - loss: 1.2831 - accuracy: 0.4925 - val_loss: 1.4789 - val_accuracy: 0.4280\n",
      "Epoch 122/300\n",
      "63/63 [==============================] - 10s 159ms/step - loss: 1.2909 - accuracy: 0.4910 - val_loss: 1.4552 - val_accuracy: 0.4260\n",
      "Epoch 123/300\n",
      "63/63 [==============================] - 10s 155ms/step - loss: 1.2866 - accuracy: 0.4935 - val_loss: 1.4241 - val_accuracy: 0.4480\n",
      "Epoch 124/300\n",
      "63/63 [==============================] - 10s 163ms/step - loss: 1.2834 - accuracy: 0.5030 - val_loss: 1.4097 - val_accuracy: 0.4460\n",
      "Epoch 125/300\n",
      "63/63 [==============================] - 10s 164ms/step - loss: 1.2776 - accuracy: 0.4950 - val_loss: 1.4110 - val_accuracy: 0.4620\n",
      "Epoch 126/300\n",
      "63/63 [==============================] - 10s 155ms/step - loss: 1.2643 - accuracy: 0.5040 - val_loss: 1.4178 - val_accuracy: 0.4600\n",
      "Epoch 127/300\n",
      "63/63 [==============================] - 10s 155ms/step - loss: 1.2536 - accuracy: 0.5035 - val_loss: 1.4640 - val_accuracy: 0.4520\n",
      "Epoch 128/300\n",
      "63/63 [==============================] - 10s 156ms/step - loss: 1.2758 - accuracy: 0.4940 - val_loss: 1.4769 - val_accuracy: 0.4240\n",
      "Epoch 129/300\n",
      "63/63 [==============================] - 10s 156ms/step - loss: 1.2922 - accuracy: 0.4790 - val_loss: 1.4339 - val_accuracy: 0.4600\n",
      "Epoch 130/300\n",
      "63/63 [==============================] - 10s 155ms/step - loss: 1.2731 - accuracy: 0.4955 - val_loss: 1.4349 - val_accuracy: 0.4280\n",
      "Epoch 131/300\n",
      "63/63 [==============================] - 10s 155ms/step - loss: 1.3089 - accuracy: 0.4910 - val_loss: 1.4176 - val_accuracy: 0.4500\n",
      "Epoch 132/300\n",
      "63/63 [==============================] - 10s 155ms/step - loss: 1.2938 - accuracy: 0.4865 - val_loss: 1.3964 - val_accuracy: 0.4620\n",
      "Epoch 133/300\n",
      "63/63 [==============================] - 10s 158ms/step - loss: 1.2495 - accuracy: 0.5125 - val_loss: 1.3722 - val_accuracy: 0.4820\n",
      "Epoch 134/300\n",
      "63/63 [==============================] - 10s 157ms/step - loss: 1.2543 - accuracy: 0.5110 - val_loss: 1.3985 - val_accuracy: 0.4540\n",
      "Epoch 135/300\n",
      "63/63 [==============================] - 10s 155ms/step - loss: 1.2674 - accuracy: 0.5060 - val_loss: 1.3965 - val_accuracy: 0.4700\n",
      "Epoch 136/300\n",
      "63/63 [==============================] - 10s 158ms/step - loss: 1.2522 - accuracy: 0.5075 - val_loss: 1.4335 - val_accuracy: 0.4540\n",
      "Epoch 137/300\n",
      "63/63 [==============================] - 10s 152ms/step - loss: 1.2490 - accuracy: 0.5105 - val_loss: 1.4494 - val_accuracy: 0.4480\n",
      "Epoch 138/300\n",
      "63/63 [==============================] - 10s 156ms/step - loss: 1.2853 - accuracy: 0.4920 - val_loss: 1.4158 - val_accuracy: 0.4680\n",
      "Epoch 139/300\n",
      "63/63 [==============================] - 10s 155ms/step - loss: 1.2420 - accuracy: 0.5115 - val_loss: 1.4366 - val_accuracy: 0.4600\n",
      "Epoch 140/300\n",
      "63/63 [==============================] - 10s 155ms/step - loss: 1.2607 - accuracy: 0.5020 - val_loss: 1.4274 - val_accuracy: 0.4680\n",
      "Epoch 141/300\n",
      "63/63 [==============================] - 10s 155ms/step - loss: 1.2275 - accuracy: 0.5075 - val_loss: 1.4378 - val_accuracy: 0.4600\n",
      "Epoch 142/300\n",
      "63/63 [==============================] - 10s 155ms/step - loss: 1.2638 - accuracy: 0.5030 - val_loss: 1.4011 - val_accuracy: 0.4740\n",
      "Epoch 143/300\n",
      "63/63 [==============================] - 10s 154ms/step - loss: 1.2398 - accuracy: 0.5115 - val_loss: 1.3977 - val_accuracy: 0.4520\n",
      "Epoch 144/300\n",
      "63/63 [==============================] - 10s 157ms/step - loss: 1.2352 - accuracy: 0.5160 - val_loss: 1.4146 - val_accuracy: 0.4760\n",
      "Epoch 145/300\n",
      "63/63 [==============================] - 10s 158ms/step - loss: 1.3291 - accuracy: 0.4775 - val_loss: 1.3853 - val_accuracy: 0.4920\n",
      "Epoch 146/300\n",
      "63/63 [==============================] - 10s 157ms/step - loss: 1.2691 - accuracy: 0.5145 - val_loss: 1.4054 - val_accuracy: 0.4660\n",
      "Epoch 147/300\n",
      "63/63 [==============================] - 10s 156ms/step - loss: 1.2800 - accuracy: 0.4910 - val_loss: 1.3739 - val_accuracy: 0.4860\n",
      "Epoch 148/300\n",
      "63/63 [==============================] - 10s 155ms/step - loss: 1.2284 - accuracy: 0.5005 - val_loss: 1.4140 - val_accuracy: 0.4760\n",
      "Epoch 149/300\n",
      "63/63 [==============================] - 10s 155ms/step - loss: 1.2325 - accuracy: 0.5205 - val_loss: 1.4502 - val_accuracy: 0.4820\n",
      "Epoch 150/300\n",
      "63/63 [==============================] - 10s 156ms/step - loss: 1.2274 - accuracy: 0.5155 - val_loss: 1.3849 - val_accuracy: 0.4820\n",
      "Epoch 151/300\n",
      "63/63 [==============================] - 10s 156ms/step - loss: 1.2155 - accuracy: 0.5180 - val_loss: 1.3633 - val_accuracy: 0.4920\n",
      "Epoch 152/300\n",
      "63/63 [==============================] - 10s 156ms/step - loss: 1.2263 - accuracy: 0.5065 - val_loss: 1.4777 - val_accuracy: 0.4440\n",
      "Epoch 153/300\n",
      "63/63 [==============================] - 10s 156ms/step - loss: 1.2326 - accuracy: 0.5075 - val_loss: 1.4456 - val_accuracy: 0.4260\n",
      "Epoch 154/300\n",
      "63/63 [==============================] - 10s 156ms/step - loss: 1.2633 - accuracy: 0.4980 - val_loss: 1.4521 - val_accuracy: 0.4480\n",
      "Epoch 155/300\n",
      "63/63 [==============================] - 10s 157ms/step - loss: 1.2795 - accuracy: 0.4960 - val_loss: 1.4500 - val_accuracy: 0.4520\n",
      "Epoch 156/300\n",
      "63/63 [==============================] - 10s 159ms/step - loss: 1.2356 - accuracy: 0.5205 - val_loss: 1.3375 - val_accuracy: 0.4980\n",
      "Epoch 157/300\n",
      "63/63 [==============================] - 10s 156ms/step - loss: 1.2006 - accuracy: 0.5205 - val_loss: 1.4407 - val_accuracy: 0.4880\n",
      "Epoch 158/300\n",
      "63/63 [==============================] - 10s 162ms/step - loss: 1.2139 - accuracy: 0.5266 - val_loss: 1.3815 - val_accuracy: 0.4860\n",
      "Epoch 159/300\n",
      "63/63 [==============================] - 10s 160ms/step - loss: 1.2325 - accuracy: 0.5115 - val_loss: 1.3799 - val_accuracy: 0.4580\n",
      "Epoch 160/300\n",
      "63/63 [==============================] - 10s 160ms/step - loss: 1.1926 - accuracy: 0.5361 - val_loss: 1.3744 - val_accuracy: 0.4880\n",
      "Epoch 161/300\n",
      "63/63 [==============================] - 10s 163ms/step - loss: 1.2280 - accuracy: 0.5180 - val_loss: 1.3340 - val_accuracy: 0.4980\n",
      "Epoch 162/300\n",
      "63/63 [==============================] - 10s 158ms/step - loss: 1.2254 - accuracy: 0.5230 - val_loss: 1.3379 - val_accuracy: 0.4900\n",
      "Epoch 163/300\n",
      "63/63 [==============================] - 10s 157ms/step - loss: 1.1989 - accuracy: 0.5366 - val_loss: 1.5236 - val_accuracy: 0.4460\n",
      "Epoch 164/300\n",
      "63/63 [==============================] - 10s 158ms/step - loss: 1.2346 - accuracy: 0.5251 - val_loss: 1.3154 - val_accuracy: 0.5040\n",
      "Epoch 165/300\n",
      "63/63 [==============================] - 10s 157ms/step - loss: 1.1994 - accuracy: 0.5160 - val_loss: 1.3636 - val_accuracy: 0.4680\n",
      "Epoch 166/300\n",
      "63/63 [==============================] - 10s 159ms/step - loss: 1.1797 - accuracy: 0.5321 - val_loss: 1.3766 - val_accuracy: 0.5100\n",
      "Epoch 167/300\n",
      "63/63 [==============================] - 10s 158ms/step - loss: 1.1695 - accuracy: 0.5461 - val_loss: 1.3276 - val_accuracy: 0.5220\n",
      "Epoch 168/300\n",
      "63/63 [==============================] - 10s 156ms/step - loss: 1.1670 - accuracy: 0.5396 - val_loss: 1.3539 - val_accuracy: 0.4980\n",
      "Epoch 169/300\n",
      "63/63 [==============================] - 10s 157ms/step - loss: 1.1794 - accuracy: 0.5501 - val_loss: 1.3476 - val_accuracy: 0.4760\n",
      "Epoch 170/300\n",
      "63/63 [==============================] - 10s 157ms/step - loss: 1.1662 - accuracy: 0.5401 - val_loss: 1.3226 - val_accuracy: 0.5120\n",
      "Epoch 171/300\n",
      "63/63 [==============================] - 10s 156ms/step - loss: 1.1816 - accuracy: 0.5466 - val_loss: 1.4556 - val_accuracy: 0.4460\n",
      "Epoch 172/300\n",
      "63/63 [==============================] - 10s 156ms/step - loss: 1.1731 - accuracy: 0.5416 - val_loss: 1.3393 - val_accuracy: 0.4980\n",
      "Epoch 173/300\n",
      "63/63 [==============================] - 10s 157ms/step - loss: 1.1702 - accuracy: 0.5386 - val_loss: 1.3900 - val_accuracy: 0.4580\n",
      "Epoch 174/300\n",
      "63/63 [==============================] - 10s 156ms/step - loss: 1.2055 - accuracy: 0.5230 - val_loss: 1.3852 - val_accuracy: 0.4740\n",
      "Epoch 175/300\n",
      "63/63 [==============================] - 10s 162ms/step - loss: 1.2122 - accuracy: 0.5276 - val_loss: 1.4849 - val_accuracy: 0.4340\n",
      "Epoch 176/300\n",
      "63/63 [==============================] - 10s 157ms/step - loss: 1.1983 - accuracy: 0.5341 - val_loss: 1.3729 - val_accuracy: 0.5020\n",
      "Epoch 177/300\n",
      "63/63 [==============================] - 10s 155ms/step - loss: 1.1721 - accuracy: 0.5366 - val_loss: 1.4193 - val_accuracy: 0.4840\n",
      "Epoch 178/300\n",
      "63/63 [==============================] - 10s 155ms/step - loss: 1.2064 - accuracy: 0.5296 - val_loss: 1.3840 - val_accuracy: 0.4940\n",
      "Epoch 179/300\n",
      "63/63 [==============================] - 10s 155ms/step - loss: 1.1923 - accuracy: 0.5431 - val_loss: 1.3461 - val_accuracy: 0.5040\n",
      "Epoch 180/300\n",
      "63/63 [==============================] - 10s 161ms/step - loss: 1.1729 - accuracy: 0.5416 - val_loss: 1.3511 - val_accuracy: 0.4940\n",
      "Epoch 181/300\n",
      "63/63 [==============================] - 10s 160ms/step - loss: 1.1809 - accuracy: 0.5401 - val_loss: 1.3981 - val_accuracy: 0.4760\n",
      "Epoch 182/300\n",
      "63/63 [==============================] - 11s 167ms/step - loss: 1.1831 - accuracy: 0.5431 - val_loss: 1.4079 - val_accuracy: 0.4660\n",
      "Epoch 183/300\n",
      "63/63 [==============================] - 10s 155ms/step - loss: 1.1333 - accuracy: 0.5631 - val_loss: 1.3348 - val_accuracy: 0.5000\n",
      "Epoch 184/300\n",
      "63/63 [==============================] - 10s 155ms/step - loss: 1.1512 - accuracy: 0.5541 - val_loss: 1.3519 - val_accuracy: 0.5180\n",
      "Epoch 185/300\n",
      "63/63 [==============================] - 10s 155ms/step - loss: 1.1609 - accuracy: 0.5551 - val_loss: 1.3379 - val_accuracy: 0.5040\n",
      "Epoch 186/300\n",
      "63/63 [==============================] - 10s 154ms/step - loss: 1.1927 - accuracy: 0.5326 - val_loss: 1.3494 - val_accuracy: 0.4940\n",
      "Epoch 187/300\n",
      "63/63 [==============================] - 10s 156ms/step - loss: 1.1990 - accuracy: 0.5301 - val_loss: 1.3244 - val_accuracy: 0.5100\n",
      "Epoch 188/300\n",
      "63/63 [==============================] - 10s 158ms/step - loss: 1.1632 - accuracy: 0.5481 - val_loss: 1.3074 - val_accuracy: 0.5200\n",
      "Epoch 189/300\n",
      "63/63 [==============================] - 10s 155ms/step - loss: 1.1493 - accuracy: 0.5546 - val_loss: 1.3835 - val_accuracy: 0.5100\n",
      "Epoch 190/300\n",
      "63/63 [==============================] - 10s 155ms/step - loss: 1.1810 - accuracy: 0.5421 - val_loss: 1.4642 - val_accuracy: 0.4560\n",
      "Epoch 191/300\n",
      "63/63 [==============================] - 10s 155ms/step - loss: 1.2488 - accuracy: 0.5271 - val_loss: 1.3525 - val_accuracy: 0.4980\n",
      "Epoch 192/300\n",
      "63/63 [==============================] - 10s 155ms/step - loss: 1.1965 - accuracy: 0.5376 - val_loss: 1.4274 - val_accuracy: 0.4460\n",
      "Epoch 193/300\n",
      "63/63 [==============================] - 10s 156ms/step - loss: 1.1756 - accuracy: 0.5461 - val_loss: 1.3535 - val_accuracy: 0.5140\n",
      "Epoch 194/300\n",
      "63/63 [==============================] - 10s 155ms/step - loss: 1.1329 - accuracy: 0.5676 - val_loss: 1.3430 - val_accuracy: 0.5040\n",
      "Epoch 195/300\n",
      "63/63 [==============================] - 10s 158ms/step - loss: 1.1475 - accuracy: 0.5511 - val_loss: 1.3008 - val_accuracy: 0.5420\n",
      "Epoch 196/300\n",
      "63/63 [==============================] - 10s 155ms/step - loss: 1.1040 - accuracy: 0.5827 - val_loss: 1.3369 - val_accuracy: 0.4860\n",
      "Epoch 197/300\n",
      "63/63 [==============================] - 10s 151ms/step - loss: 1.1422 - accuracy: 0.5541 - val_loss: 1.3524 - val_accuracy: 0.5200\n",
      "Epoch 198/300\n",
      "63/63 [==============================] - 9s 151ms/step - loss: 1.1506 - accuracy: 0.5611 - val_loss: 1.2903 - val_accuracy: 0.5120\n",
      "Epoch 199/300\n",
      "63/63 [==============================] - 10s 152ms/step - loss: 1.1648 - accuracy: 0.5566 - val_loss: 1.3206 - val_accuracy: 0.5000\n",
      "Epoch 200/300\n",
      "63/63 [==============================] - 9s 150ms/step - loss: 1.1265 - accuracy: 0.5767 - val_loss: 1.3302 - val_accuracy: 0.5080\n",
      "Epoch 201/300\n",
      "63/63 [==============================] - 10s 154ms/step - loss: 1.1048 - accuracy: 0.5872 - val_loss: 1.2823 - val_accuracy: 0.5460\n",
      "Epoch 202/300\n",
      "63/63 [==============================] - 10s 151ms/step - loss: 1.1875 - accuracy: 0.5471 - val_loss: 1.3425 - val_accuracy: 0.5300\n",
      "Epoch 203/300\n",
      "63/63 [==============================] - 10s 151ms/step - loss: 1.1125 - accuracy: 0.5827 - val_loss: 1.3521 - val_accuracy: 0.5140\n",
      "Epoch 204/300\n",
      "63/63 [==============================] - 10s 154ms/step - loss: 1.0930 - accuracy: 0.5897 - val_loss: 1.2574 - val_accuracy: 0.5520\n",
      "Epoch 205/300\n",
      "63/63 [==============================] - 10s 152ms/step - loss: 1.1204 - accuracy: 0.5746 - val_loss: 1.3059 - val_accuracy: 0.5160\n",
      "Epoch 206/300\n",
      "63/63 [==============================] - 10s 151ms/step - loss: 1.1052 - accuracy: 0.5862 - val_loss: 1.3205 - val_accuracy: 0.5080\n",
      "Epoch 207/300\n",
      "63/63 [==============================] - 10s 152ms/step - loss: 1.0887 - accuracy: 0.5902 - val_loss: 1.3568 - val_accuracy: 0.5120\n",
      "Epoch 208/300\n",
      "63/63 [==============================] - 10s 151ms/step - loss: 1.2096 - accuracy: 0.5546 - val_loss: 1.3092 - val_accuracy: 0.5340\n",
      "Epoch 209/300\n",
      "63/63 [==============================] - 9s 151ms/step - loss: 1.1245 - accuracy: 0.5726 - val_loss: 1.2590 - val_accuracy: 0.5460\n",
      "Epoch 210/300\n",
      "63/63 [==============================] - 10s 151ms/step - loss: 1.0995 - accuracy: 0.5982 - val_loss: 1.2868 - val_accuracy: 0.5380\n",
      "Epoch 211/300\n",
      "63/63 [==============================] - 9s 151ms/step - loss: 1.0825 - accuracy: 0.5942 - val_loss: 1.2782 - val_accuracy: 0.5420\n",
      "Epoch 212/300\n",
      "63/63 [==============================] - 10s 151ms/step - loss: 1.0600 - accuracy: 0.6117 - val_loss: 1.2727 - val_accuracy: 0.5460\n",
      "Epoch 213/300\n",
      "63/63 [==============================] - 10s 151ms/step - loss: 1.1092 - accuracy: 0.5787 - val_loss: 1.3415 - val_accuracy: 0.5000\n",
      "Epoch 214/300\n",
      "63/63 [==============================] - 10s 153ms/step - loss: 1.1318 - accuracy: 0.5656 - val_loss: 1.2668 - val_accuracy: 0.5600\n",
      "Epoch 215/300\n",
      "63/63 [==============================] - 10s 152ms/step - loss: 1.1322 - accuracy: 0.5752 - val_loss: 1.4792 - val_accuracy: 0.4380\n",
      "Epoch 216/300\n",
      "63/63 [==============================] - 10s 155ms/step - loss: 1.1388 - accuracy: 0.5757 - val_loss: 1.2961 - val_accuracy: 0.5440\n",
      "Epoch 217/300\n",
      "63/63 [==============================] - 10s 156ms/step - loss: 1.1504 - accuracy: 0.5651 - val_loss: 1.3789 - val_accuracy: 0.4960\n",
      "Epoch 218/300\n",
      "63/63 [==============================] - 10s 155ms/step - loss: 1.1116 - accuracy: 0.5887 - val_loss: 1.2876 - val_accuracy: 0.5420\n",
      "Epoch 219/300\n",
      "63/63 [==============================] - 10s 156ms/step - loss: 1.1886 - accuracy: 0.5371 - val_loss: 1.3067 - val_accuracy: 0.5300\n",
      "Epoch 220/300\n",
      "63/63 [==============================] - 10s 155ms/step - loss: 1.0795 - accuracy: 0.6067 - val_loss: 1.3266 - val_accuracy: 0.5160\n",
      "Epoch 221/300\n",
      "63/63 [==============================] - 10s 155ms/step - loss: 1.0702 - accuracy: 0.6027 - val_loss: 1.2934 - val_accuracy: 0.5080\n",
      "Epoch 222/300\n",
      "63/63 [==============================] - 10s 155ms/step - loss: 1.0635 - accuracy: 0.5982 - val_loss: 1.2816 - val_accuracy: 0.5380\n",
      "Epoch 223/300\n",
      "63/63 [==============================] - 10s 157ms/step - loss: 1.0416 - accuracy: 0.6217 - val_loss: 1.2869 - val_accuracy: 0.5540\n",
      "Epoch 224/300\n",
      "63/63 [==============================] - 10s 155ms/step - loss: 1.0548 - accuracy: 0.6142 - val_loss: 1.2969 - val_accuracy: 0.5380\n",
      "Epoch 225/300\n",
      "63/63 [==============================] - 10s 155ms/step - loss: 1.0321 - accuracy: 0.6237 - val_loss: 1.3108 - val_accuracy: 0.5320\n",
      "Epoch 226/300\n",
      "63/63 [==============================] - 10s 156ms/step - loss: 1.1115 - accuracy: 0.5827 - val_loss: 1.3298 - val_accuracy: 0.5280\n",
      "Epoch 227/300\n",
      "63/63 [==============================] - 10s 155ms/step - loss: 1.0652 - accuracy: 0.5952 - val_loss: 1.3119 - val_accuracy: 0.5320\n",
      "Epoch 228/300\n"
     ]
    },
    {
     "name": "stdout",
     "output_type": "stream",
     "text": [
      "63/63 [==============================] - 10s 155ms/step - loss: 1.1438 - accuracy: 0.5726 - val_loss: 1.3290 - val_accuracy: 0.4940\n",
      "Epoch 229/300\n",
      "63/63 [==============================] - 10s 155ms/step - loss: 1.0408 - accuracy: 0.6207 - val_loss: 1.3485 - val_accuracy: 0.5280\n",
      "Epoch 230/300\n",
      "63/63 [==============================] - 10s 155ms/step - loss: 1.0682 - accuracy: 0.6087 - val_loss: 1.3028 - val_accuracy: 0.5540\n",
      "Epoch 231/300\n",
      "63/63 [==============================] - 10s 154ms/step - loss: 1.0247 - accuracy: 0.6263 - val_loss: 1.3544 - val_accuracy: 0.5500\n",
      "Epoch 232/300\n",
      "63/63 [==============================] - 10s 155ms/step - loss: 1.1582 - accuracy: 0.5661 - val_loss: 1.3378 - val_accuracy: 0.5180\n",
      "Epoch 233/300\n",
      "63/63 [==============================] - 10s 155ms/step - loss: 1.1002 - accuracy: 0.5852 - val_loss: 1.3344 - val_accuracy: 0.5280\n",
      "Epoch 234/300\n",
      "63/63 [==============================] - 10s 155ms/step - loss: 1.1026 - accuracy: 0.5902 - val_loss: 1.3579 - val_accuracy: 0.4880\n",
      "Epoch 235/300\n",
      "63/63 [==============================] - 10s 155ms/step - loss: 1.0729 - accuracy: 0.5937 - val_loss: 1.3135 - val_accuracy: 0.5220\n",
      "Epoch 236/300\n",
      "63/63 [==============================] - 10s 157ms/step - loss: 1.1307 - accuracy: 0.5832 - val_loss: 1.3459 - val_accuracy: 0.5260\n",
      "Epoch 237/300\n",
      "63/63 [==============================] - 10s 155ms/step - loss: 1.0978 - accuracy: 0.5982 - val_loss: 1.4234 - val_accuracy: 0.4800\n",
      "Epoch 238/300\n",
      "63/63 [==============================] - 10s 156ms/step - loss: 1.0731 - accuracy: 0.6077 - val_loss: 1.2914 - val_accuracy: 0.5560\n",
      "Epoch 239/300\n",
      "63/63 [==============================] - 10s 155ms/step - loss: 1.0443 - accuracy: 0.6283 - val_loss: 1.3093 - val_accuracy: 0.5100\n",
      "Epoch 240/300\n",
      "63/63 [==============================] - 10s 155ms/step - loss: 1.0683 - accuracy: 0.5987 - val_loss: 1.3097 - val_accuracy: 0.5520\n",
      "Epoch 241/300\n",
      "63/63 [==============================] - 10s 157ms/step - loss: 1.0417 - accuracy: 0.6227 - val_loss: 1.2349 - val_accuracy: 0.5640\n",
      "Epoch 242/300\n",
      "63/63 [==============================] - 10s 157ms/step - loss: 1.0126 - accuracy: 0.6343 - val_loss: 1.2842 - val_accuracy: 0.5520\n",
      "Epoch 243/300\n",
      "63/63 [==============================] - 10s 160ms/step - loss: 1.0279 - accuracy: 0.6288 - val_loss: 1.3217 - val_accuracy: 0.5280\n",
      "Epoch 244/300\n",
      "63/63 [==============================] - 10s 159ms/step - loss: 1.0089 - accuracy: 0.6378 - val_loss: 1.2793 - val_accuracy: 0.5360\n",
      "Epoch 245/300\n",
      "63/63 [==============================] - 10s 159ms/step - loss: 1.0139 - accuracy: 0.6318 - val_loss: 1.2798 - val_accuracy: 0.5420\n",
      "Epoch 246/300\n",
      "63/63 [==============================] - 10s 158ms/step - loss: 1.0418 - accuracy: 0.6172 - val_loss: 1.4099 - val_accuracy: 0.5080\n",
      "Epoch 247/300\n",
      "63/63 [==============================] - 10s 156ms/step - loss: 1.2422 - accuracy: 0.5311 - val_loss: 1.3663 - val_accuracy: 0.5040\n",
      "Epoch 248/300\n",
      "63/63 [==============================] - 10s 158ms/step - loss: 1.0807 - accuracy: 0.5972 - val_loss: 1.4039 - val_accuracy: 0.4940\n",
      "Epoch 249/300\n",
      "63/63 [==============================] - 10s 156ms/step - loss: 1.0221 - accuracy: 0.6358 - val_loss: 1.2804 - val_accuracy: 0.5420\n",
      "Epoch 250/300\n",
      "63/63 [==============================] - 10s 155ms/step - loss: 1.0078 - accuracy: 0.6338 - val_loss: 1.2293 - val_accuracy: 0.5640\n",
      "Epoch 251/300\n",
      "63/63 [==============================] - 10s 157ms/step - loss: 0.9779 - accuracy: 0.6438 - val_loss: 1.2591 - val_accuracy: 0.5420\n",
      "Epoch 252/300\n",
      "63/63 [==============================] - 10s 156ms/step - loss: 1.0126 - accuracy: 0.6207 - val_loss: 1.3437 - val_accuracy: 0.5180\n",
      "Epoch 253/300\n",
      "63/63 [==============================] - 10s 156ms/step - loss: 1.0029 - accuracy: 0.6393 - val_loss: 1.3445 - val_accuracy: 0.5340\n",
      "Epoch 254/300\n",
      "63/63 [==============================] - 10s 156ms/step - loss: 1.0444 - accuracy: 0.6112 - val_loss: 1.2991 - val_accuracy: 0.5440\n",
      "Epoch 255/300\n",
      "63/63 [==============================] - 10s 160ms/step - loss: 0.9717 - accuracy: 0.6523 - val_loss: 1.2226 - val_accuracy: 0.5720\n",
      "Epoch 256/300\n",
      "63/63 [==============================] - 10s 164ms/step - loss: 1.0830 - accuracy: 0.5972 - val_loss: 1.3653 - val_accuracy: 0.5400\n",
      "Epoch 257/300\n",
      "63/63 [==============================] - 10s 156ms/step - loss: 1.0814 - accuracy: 0.5967 - val_loss: 1.3127 - val_accuracy: 0.5320\n",
      "Epoch 258/300\n",
      "63/63 [==============================] - 10s 155ms/step - loss: 1.0303 - accuracy: 0.6167 - val_loss: 1.2799 - val_accuracy: 0.5420\n",
      "Epoch 259/300\n",
      "63/63 [==============================] - 10s 156ms/step - loss: 0.9846 - accuracy: 0.6373 - val_loss: 1.2480 - val_accuracy: 0.5440\n",
      "Epoch 260/300\n",
      "63/63 [==============================] - 10s 155ms/step - loss: 0.9767 - accuracy: 0.6458 - val_loss: 1.2526 - val_accuracy: 0.5480\n",
      "Epoch 261/300\n",
      "63/63 [==============================] - 10s 157ms/step - loss: 1.0315 - accuracy: 0.6247 - val_loss: 1.1965 - val_accuracy: 0.5940\n",
      "Epoch 262/300\n",
      "63/63 [==============================] - 10s 155ms/step - loss: 1.0093 - accuracy: 0.6428 - val_loss: 1.2931 - val_accuracy: 0.5380\n",
      "Epoch 263/300\n",
      "63/63 [==============================] - 10s 156ms/step - loss: 0.9843 - accuracy: 0.6498 - val_loss: 1.3421 - val_accuracy: 0.5260\n",
      "Epoch 264/300\n",
      "63/63 [==============================] - 10s 158ms/step - loss: 0.9963 - accuracy: 0.6393 - val_loss: 1.2203 - val_accuracy: 0.5580\n",
      "Epoch 265/300\n",
      "63/63 [==============================] - 10s 158ms/step - loss: 1.0110 - accuracy: 0.6313 - val_loss: 1.2340 - val_accuracy: 0.5600\n",
      "Epoch 266/300\n",
      "63/63 [==============================] - 10s 155ms/step - loss: 1.0212 - accuracy: 0.6242 - val_loss: 1.3518 - val_accuracy: 0.5360\n",
      "Epoch 267/300\n",
      "63/63 [==============================] - 10s 154ms/step - loss: 1.0880 - accuracy: 0.6002 - val_loss: 1.4658 - val_accuracy: 0.5100\n",
      "Epoch 268/300\n",
      "63/63 [==============================] - 10s 154ms/step - loss: 1.0194 - accuracy: 0.6288 - val_loss: 1.2426 - val_accuracy: 0.5540\n",
      "Epoch 269/300\n",
      "63/63 [==============================] - 10s 154ms/step - loss: 0.9663 - accuracy: 0.6533 - val_loss: 1.2541 - val_accuracy: 0.5420\n",
      "Epoch 270/300\n",
      "63/63 [==============================] - 10s 158ms/step - loss: 0.9531 - accuracy: 0.6498 - val_loss: 1.2569 - val_accuracy: 0.5600\n",
      "Epoch 271/300\n",
      "63/63 [==============================] - 10s 158ms/step - loss: 0.9367 - accuracy: 0.6638 - val_loss: 1.2861 - val_accuracy: 0.5360\n",
      "Epoch 272/300\n",
      "63/63 [==============================] - 10s 157ms/step - loss: 0.9405 - accuracy: 0.6588 - val_loss: 1.3417 - val_accuracy: 0.5300\n",
      "Epoch 273/300\n",
      "63/63 [==============================] - 10s 156ms/step - loss: 0.9877 - accuracy: 0.6373 - val_loss: 1.2156 - val_accuracy: 0.5500\n",
      "Epoch 274/300\n",
      "63/63 [==============================] - 10s 156ms/step - loss: 0.9211 - accuracy: 0.6698 - val_loss: 1.2070 - val_accuracy: 0.5680\n",
      "Epoch 275/300\n",
      "63/63 [==============================] - 10s 157ms/step - loss: 0.9692 - accuracy: 0.6478 - val_loss: 1.2378 - val_accuracy: 0.5720\n",
      "Epoch 276/300\n",
      "63/63 [==============================] - 10s 156ms/step - loss: 0.9464 - accuracy: 0.6548 - val_loss: 1.2831 - val_accuracy: 0.5540\n",
      "Epoch 277/300\n",
      "63/63 [==============================] - 10s 156ms/step - loss: 0.8980 - accuracy: 0.6779 - val_loss: 1.2779 - val_accuracy: 0.5600\n",
      "Epoch 278/300\n",
      "63/63 [==============================] - 10s 156ms/step - loss: 0.9651 - accuracy: 0.6428 - val_loss: 1.3427 - val_accuracy: 0.5220\n",
      "Epoch 279/300\n",
      "63/63 [==============================] - 10s 156ms/step - loss: 0.9519 - accuracy: 0.6483 - val_loss: 1.1933 - val_accuracy: 0.5760\n",
      "Epoch 280/300\n",
      "63/63 [==============================] - 10s 157ms/step - loss: 0.9383 - accuracy: 0.6603 - val_loss: 1.2260 - val_accuracy: 0.5580\n",
      "Epoch 281/300\n",
      "63/63 [==============================] - 10s 156ms/step - loss: 0.9114 - accuracy: 0.6653 - val_loss: 1.4682 - val_accuracy: 0.5100\n",
      "Epoch 282/300\n",
      "63/63 [==============================] - 10s 156ms/step - loss: 1.0481 - accuracy: 0.6127 - val_loss: 1.2077 - val_accuracy: 0.5660\n",
      "Epoch 283/300\n",
      "63/63 [==============================] - 10s 156ms/step - loss: 0.9308 - accuracy: 0.6643 - val_loss: 1.3530 - val_accuracy: 0.5260\n",
      "Epoch 284/300\n",
      "63/63 [==============================] - 10s 157ms/step - loss: 0.9922 - accuracy: 0.6318 - val_loss: 1.3482 - val_accuracy: 0.5040\n",
      "Epoch 285/300\n",
      "63/63 [==============================] - 10s 157ms/step - loss: 1.0038 - accuracy: 0.6263 - val_loss: 1.2377 - val_accuracy: 0.5680\n",
      "Epoch 286/300\n",
      "63/63 [==============================] - 10s 155ms/step - loss: 0.9971 - accuracy: 0.6428 - val_loss: 1.3180 - val_accuracy: 0.5600\n",
      "Epoch 287/300\n",
      "63/63 [==============================] - 10s 156ms/step - loss: 0.9552 - accuracy: 0.6448 - val_loss: 1.2228 - val_accuracy: 0.5520\n",
      "Epoch 288/300\n",
      "63/63 [==============================] - 10s 157ms/step - loss: 0.8987 - accuracy: 0.6698 - val_loss: 1.1872 - val_accuracy: 0.5820\n",
      "Epoch 289/300\n",
      "63/63 [==============================] - 10s 156ms/step - loss: 0.8980 - accuracy: 0.6769 - val_loss: 1.1992 - val_accuracy: 0.5720\n",
      "Epoch 290/300\n",
      "63/63 [==============================] - 10s 156ms/step - loss: 0.9294 - accuracy: 0.6618 - val_loss: 1.1545 - val_accuracy: 0.5880\n",
      "Epoch 291/300\n",
      "63/63 [==============================] - 10s 156ms/step - loss: 0.8492 - accuracy: 0.6969 - val_loss: 1.2319 - val_accuracy: 0.5680\n",
      "Epoch 292/300\n",
      "63/63 [==============================] - 10s 156ms/step - loss: 0.9286 - accuracy: 0.6568 - val_loss: 1.2572 - val_accuracy: 0.5800\n",
      "Epoch 293/300\n",
      "63/63 [==============================] - 10s 156ms/step - loss: 0.8930 - accuracy: 0.6733 - val_loss: 1.2996 - val_accuracy: 0.5480\n",
      "Epoch 294/300\n",
      "63/63 [==============================] - 10s 156ms/step - loss: 0.9812 - accuracy: 0.6428 - val_loss: 1.3363 - val_accuracy: 0.5280\n",
      "Epoch 295/300\n",
      "63/63 [==============================] - 10s 156ms/step - loss: 0.8910 - accuracy: 0.6764 - val_loss: 1.1804 - val_accuracy: 0.5740\n",
      "Epoch 296/300\n",
      "63/63 [==============================] - 10s 155ms/step - loss: 0.8836 - accuracy: 0.6784 - val_loss: 1.1813 - val_accuracy: 0.5820\n",
      "Epoch 297/300\n",
      "63/63 [==============================] - 10s 156ms/step - loss: 0.8948 - accuracy: 0.6643 - val_loss: 1.1514 - val_accuracy: 0.5680\n",
      "Epoch 298/300\n",
      "63/63 [==============================] - 10s 157ms/step - loss: 0.9528 - accuracy: 0.6488 - val_loss: 1.4820 - val_accuracy: 0.4800\n",
      "Epoch 299/300\n",
      "63/63 [==============================] - 10s 156ms/step - loss: 0.9878 - accuracy: 0.6403 - val_loss: 1.2714 - val_accuracy: 0.5520\n",
      "Epoch 300/300\n",
      "63/63 [==============================] - 10s 159ms/step - loss: 0.9068 - accuracy: 0.6693 - val_loss: 1.1745 - val_accuracy: 0.6060\n"
     ]
    },
    {
     "data": {
      "text/plain": [
       "<keras.src.callbacks.History at 0x1e53606e010>"
      ]
     },
     "execution_count": 40,
     "metadata": {},
     "output_type": "execute_result"
    }
   ],
   "source": [
    "combined_model.fit([x_audio_tr,x_image_tr], y_tr, epochs=300, batch_size=32, validation_data=([x_audio_te,x_image_te],y_te),callbacks=checkpoint)"
   ]
  },
  {
   "cell_type": "code",
   "execution_count": 41,
   "id": "bc44abde",
   "metadata": {},
   "outputs": [],
   "source": [
    "combined_model.load_weights('Model_Integrated_weights.h5')"
   ]
  },
  {
   "cell_type": "code",
   "execution_count": 42,
   "id": "1bcddc53",
   "metadata": {},
   "outputs": [
    {
     "name": "stdout",
     "output_type": "stream",
     "text": [
      "16/16 [==============================] - 1s 35ms/step - loss: 1.1745 - accuracy: 0.6060\n"
     ]
    },
    {
     "data": {
      "text/plain": [
       "[1.1744788885116577, 0.6060000061988831]"
      ]
     },
     "execution_count": 42,
     "metadata": {},
     "output_type": "execute_result"
    }
   ],
   "source": [
    "combined_model.evaluate([x_audio_te,x_image_te],y_te)"
   ]
  },
  {
   "cell_type": "code",
   "execution_count": 43,
   "id": "9ddd5ebd",
   "metadata": {},
   "outputs": [],
   "source": [
    "model_json=combined_model.to_json()\n",
    "with open(\"model_integrated_a.json\",\"w\") as json_file:\n",
    "    json_file.write(model_json)"
   ]
  },
  {
   "cell_type": "code",
   "execution_count": null,
   "id": "8624a7ba",
   "metadata": {},
   "outputs": [],
   "source": []
  }
 ],
 "metadata": {
  "kernelspec": {
   "display_name": "Python 3 (ipykernel)",
   "language": "python",
   "name": "python3"
  },
  "language_info": {
   "codemirror_mode": {
    "name": "ipython",
    "version": 3
   },
   "file_extension": ".py",
   "mimetype": "text/x-python",
   "name": "python",
   "nbconvert_exporter": "python",
   "pygments_lexer": "ipython3",
   "version": "3.11.5"
  }
 },
 "nbformat": 4,
 "nbformat_minor": 5
}
